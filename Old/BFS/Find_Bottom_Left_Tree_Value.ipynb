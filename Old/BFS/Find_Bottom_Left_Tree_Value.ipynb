{
 "cells": [
  {
   "cell_type": "code",
   "execution_count": null,
   "metadata": {},
   "outputs": [],
   "source": [
    "# Definition for a binary tree node.\n",
    "# class TreeNode(object):\n",
    "#     def __init__(self, val=0, left=None, right=None):\n",
    "#         self.val = val\n",
    "#         self.left = left\n",
    "#         self.right = right\n",
    "class Solution(object):\n",
    "    def findBottomLeftValue(self, root):\n",
    "        \"\"\"\n",
    "        :type root: TreeNode\n",
    "        :rtype: int\n",
    "        \"\"\"\n",
    "\n",
    "        \"\"\"\n",
    "        Level order traversal\n",
    "        At each level save the first child as the res, if there are new children update them\n",
    "        \"\"\"\n",
    "\n",
    "        q = [root]\n",
    "\n",
    "        res = None\n",
    "        \n",
    "        while len(q) > 0:\n",
    "            for i in range(len(q)):\n",
    "                node = q.pop(0)\n",
    "                if i==0:\n",
    "                    res = node.val\n",
    "                if node.left:\n",
    "                    q.append(node.left)\n",
    "                if node.right:\n",
    "                    q.append(node.right)\n",
    "        \n",
    "        return res\n",
    "\n",
    "        "
   ]
  }
 ],
 "metadata": {
  "language_info": {
   "name": "python"
  }
 },
 "nbformat": 4,
 "nbformat_minor": 2
}
