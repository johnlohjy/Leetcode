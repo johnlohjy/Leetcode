{
 "cells": [
  {
   "cell_type": "code",
   "execution_count": null,
   "metadata": {},
   "outputs": [],
   "source": [
    "\"\"\"\n",
    "Need to optimise\n",
    "\"\"\"\n",
    "\n",
    "# Definition for a binary tree node.\n",
    "# class TreeNode(object):\n",
    "#     def __init__(self, val=0, left=None, right=None):\n",
    "#         self.val = val\n",
    "#         self.left = left\n",
    "#         self.right = right\n",
    "class Solution(object):\n",
    "    def deepestLeavesSum(self, root):\n",
    "        \"\"\"\n",
    "        :type root: TreeNode\n",
    "        :rtype: int\n",
    "        \"\"\"\n",
    "\n",
    "        \"\"\"\n",
    "        Save the sum of each level into a list\n",
    "        Return the last element of the list\n",
    "        \"\"\"\n",
    "\n",
    "        sums = collections.defaultdict(int)\n",
    "        level = 1\n",
    "        queue = []\n",
    "        queue.append(root)\n",
    "\n",
    "        #Level order traversal\n",
    "        #Continue BFS\n",
    "        while len(queue) > 0:\n",
    "            level_sum = 0\n",
    "            #Iterate over each level\n",
    "            for i in range(len(queue)):\n",
    "                #Pop the current node\n",
    "                node = queue.pop(0)\n",
    "                level_sum+=node.val\n",
    "                if(node.left):\n",
    "                    queue.append(node.left)\n",
    "                if(node.right):\n",
    "                    queue.append(node.right)\n",
    "            sums[level]+=level_sum\n",
    "            level+=1\n",
    "        return sums[level-1]"
   ]
  }
 ],
 "metadata": {
  "language_info": {
   "name": "python"
  },
  "orig_nbformat": 4
 },
 "nbformat": 4,
 "nbformat_minor": 2
}
