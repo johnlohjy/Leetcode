{
 "cells": [
  {
   "cell_type": "code",
   "execution_count": 4,
   "metadata": {},
   "outputs": [],
   "source": [
    "class Solution(object):\n",
    "    def nearestExit(self, maze, entrance):\n",
    "        \"\"\"\n",
    "        :type maze: List[List[str]]\n",
    "        :type entrance: List[int]\n",
    "        :rtype: int\n",
    "        \"\"\"\n",
    "        \"\"\"\n",
    "        Size of Maze: m x n\n",
    "        Exits: \n",
    "        Top    => [0,0], ..., [0,n]\n",
    "        Bottom => [m,0], ..., [m,n]\n",
    "        Left   => [0,0], ..., [m,0]\n",
    "        Right  => [0,n], ..., [m,n]\n",
    "\n",
    "        Perform BFS\n",
    "        1. Get all available neighbours surrounding you and check if they are\n",
    "           exits. If they are, return 1. Else, initialise steps to 1 and add all the neighbours to seen before, enqueue all neighbours that are not walls\n",
    "        3. For each neighbour:\n",
    "        4.     For all its neighbours:\n",
    "                    If the neighbour has not been seen before:\n",
    "                        Add it to seen\n",
    "                        If the neighbour is not an exit and is not a wall:\n",
    "                                Enqueue the neighbour\n",
    "                        Else if it is an exit:\n",
    "                                Add 1 to the number of steps\n",
    "                                Return the number of steps\n",
    "                Add 1 to the number of steps\n",
    "\n",
    "        5. Return -1 if this line is reached\n",
    "        \"\"\"\n",
    "\n",
    "        #Initialise directions: up, down, left, right\n",
    "        directions = [(0,1), (0,-1), (-1,0), (1,0)]\n",
    "\n",
    "        #Initialise list to hold neighbours\n",
    "        queue = []\n",
    "\n",
    "        #Initialise list to hold seen\n",
    "        seen = []\n",
    "        seen.append((entrance[0],entrance[1]))\n",
    "\n",
    "        #Initialise steps\n",
    "        steps = 0\n",
    "\n",
    "        #Exits\n",
    "        exits = set()\n",
    "\n",
    "        #Top exits\n",
    "        for c in range(len(maze[0])):\n",
    "            exits.add((0,c))\n",
    "        \n",
    "        #Bottom exits\n",
    "        for c in range(len(maze[0])):\n",
    "            exits.add((len(maze)-1,c))\n",
    "\n",
    "        #Left exits\n",
    "        for r in range(len(maze)):\n",
    "            exits.add((r,0))\n",
    "\n",
    "        #Right exits\n",
    "        for r in range(len(maze)):\n",
    "            exits.add((r,len(maze[0])-1))\n",
    "\n",
    "        for d in directions:\n",
    "            r = entrance[0] + d[0]\n",
    "            c = entrance[1] + d[1]\n",
    "            #If seen before or out of bounds, continue\n",
    "            if((r,c) in seen or r<0 or r==len(maze) or c<0 or c==len(maze[0]) or maze[r][c]!=\".\"):\n",
    "                continue\n",
    "            #Add to seen first\n",
    "            seen.append((r,c))\n",
    "            #If its an exit, return 1 step\n",
    "            if (r,c) in exits:\n",
    "                return 1\n",
    "            #else if it is empty, enqueue it\n",
    "            elif maze[r][c]==\".\":\n",
    "                queue.append((r,c))\n",
    "        \n",
    "        steps+=1\n",
    "\n",
    "        while(len(queue)>0):\n",
    "            for i in range(len(queue)):\n",
    "                nb = queue.pop(0)\n",
    "                for d in directions:\n",
    "                    r = nb[0] + d[0]\n",
    "                    c = nb[1] + d[1]\n",
    "                    #If seen before or out of bounds, continue\n",
    "                    if((r,c) in seen or r<0 or r==len(maze) or c<0 or c==len(maze[0]) or maze[r][c]!=\".\"):\n",
    "                        continue\n",
    "                    #Add to seen first\n",
    "                    seen.append((r,c))\n",
    "                    #If it is not an exit and it is empty, enqueue it\n",
    "                    if (r,c) not in exits and maze[r][c]==\".\":\n",
    "                        queue.append((r,c))\n",
    "                    #If it is an exit and it is empty, return steps+=1\n",
    "                    elif (r,c) in exits and maze[r][c]==\".\":\n",
    "                        steps+=1\n",
    "                        return steps\n",
    "            #Add 1 to steps once we have finished BFS for that level\n",
    "            steps+=1\n",
    "        \n",
    "        return -1"
   ]
  },
  {
   "attachments": {},
   "cell_type": "markdown",
   "metadata": {},
   "source": [
    "#### Case 1"
   ]
  },
  {
   "cell_type": "code",
   "execution_count": 5,
   "metadata": {},
   "outputs": [
    {
     "name": "stdout",
     "output_type": "stream",
     "text": [
      "1\n"
     ]
    }
   ],
   "source": [
    "solution = Solution()\n",
    "maze = [[\"+\",\"+\",\".\",\"+\"],[\".\",\".\",\".\",\"+\"],[\"+\",\"+\",\"+\",\".\"]]\n",
    "entrance = [1,2]\n",
    "print(solution.nearestExit(maze,entrance))"
   ]
  },
  {
   "attachments": {},
   "cell_type": "markdown",
   "metadata": {},
   "source": [
    "#### Case 2"
   ]
  },
  {
   "cell_type": "code",
   "execution_count": 6,
   "metadata": {},
   "outputs": [
    {
     "name": "stdout",
     "output_type": "stream",
     "text": [
      "2\n"
     ]
    }
   ],
   "source": [
    "solution = Solution()\n",
    "maze = [[\"+\",\"+\",\"+\"],[\".\",\".\",\".\"],[\"+\",\"+\",\"+\"]]\n",
    "entrance = [1,0]\n",
    "print(solution.nearestExit(maze,entrance))"
   ]
  },
  {
   "attachments": {},
   "cell_type": "markdown",
   "metadata": {},
   "source": [
    "#### Case 3"
   ]
  },
  {
   "cell_type": "code",
   "execution_count": 7,
   "metadata": {},
   "outputs": [
    {
     "name": "stdout",
     "output_type": "stream",
     "text": [
      "-1\n"
     ]
    }
   ],
   "source": [
    "solution = Solution()\n",
    "maze = [[\".\",\"+\"]]\n",
    "entrance = [0,0]\n",
    "print(solution.nearestExit(maze,entrance))"
   ]
  }
 ],
 "metadata": {
  "kernelspec": {
   "display_name": "myenv1",
   "language": "python",
   "name": "python3"
  },
  "language_info": {
   "codemirror_mode": {
    "name": "ipython",
    "version": 3
   },
   "file_extension": ".py",
   "mimetype": "text/x-python",
   "name": "python",
   "nbconvert_exporter": "python",
   "pygments_lexer": "ipython3",
   "version": "3.10.4"
  },
  "orig_nbformat": 4,
  "vscode": {
   "interpreter": {
    "hash": "8a078b07380397144e747fd07167a2d4c0caaa988ff13d7bbeaa61746ce348c9"
   }
  }
 },
 "nbformat": 4,
 "nbformat_minor": 2
}
