{
 "cells": [
  {
   "cell_type": "code",
   "execution_count": null,
   "metadata": {},
   "outputs": [],
   "source": [
    "class Solution(object):\n",
    "    def floodFill(self, image, sr, sc, color):\n",
    "        \"\"\"\n",
    "        :type image: List[List[int]]\n",
    "        :type sr: int\n",
    "        :type sc: int\n",
    "        :type color: int\n",
    "        :rtype: List[List[int]]\n",
    "        \"\"\"\n",
    "\n",
    "        \"\"\"\n",
    "        image[i][j] => pixel value of an image\n",
    "        sr, sc, color integer values \n",
    "\n",
    "        Perform a flood fill\n",
    "        on the image starting from pixel image[i][j]/image[sr][sc]\n",
    "\n",
    "        Replace the colours of all 4 directionally connected pixels (BFS) that has the same colour as the starting pixel \n",
    "        \"\"\"\n",
    "\n",
    "        visited = set()\n",
    "        queue = [(sr,sc)]\n",
    "        org_color = image[sr][sc]\n",
    "        directions = [(1,0), (-1,0), (0,-1), (0,1)]\n",
    "\n",
    "        while len(queue) > 0:\n",
    "            pixel = queue.pop(0)\n",
    "            visited.add(pixel)\n",
    "            r = pixel[0]\n",
    "            c = pixel[1]\n",
    "\n",
    "            if(image[r][c]==org_color):\n",
    "                image[r][c] = color\n",
    "\n",
    "                for dr in directions:\n",
    "                    if r+dr[0]<0 or r+dr[0]>len(image)-1 or c+dr[1]<0 or c+dr[1]>len(image[0])-1 or (r+dr[0],c+dr[1]) in visited:\n",
    "                        continue\n",
    "                    queue.append((r+dr[0],c+dr[1]))\n",
    "            \n",
    "\n",
    "\n",
    "        return image\n",
    "            \n",
    "\n",
    "\n",
    "\n",
    "        "
   ]
  }
 ],
 "metadata": {
  "language_info": {
   "name": "python"
  }
 },
 "nbformat": 4,
 "nbformat_minor": 2
}
