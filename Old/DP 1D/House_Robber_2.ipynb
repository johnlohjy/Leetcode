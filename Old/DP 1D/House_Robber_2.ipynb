{
 "cells": [
  {
   "cell_type": "code",
   "execution_count": null,
   "metadata": {},
   "outputs": [],
   "source": [
    "class Solution(object):\n",
    "    def rob(self, nums):\n",
    "        \"\"\"\n",
    "        :type nums: List[int]\n",
    "        :rtype: int\n",
    "        \"\"\"\n",
    "        \n",
    "        \"\"\"\n",
    "        First house is the neighbor of the last one\n",
    "        [2, 3, 2]\n",
    "        Max amount: 3\n",
    "\n",
    "        [1, 2, 3, 1]\n",
    "        Max amount: 1+3 = 4\n",
    "\n",
    "        [1, 2, 3]\n",
    "        Max amount: 3\n",
    "\n",
    "        Since House[1] and House[n] are adjacent, they cannot be robbed together. Therefore, the problem becomes to rob either House[1]-House   [n-1] or House[2]-House[n], depending on which choice offers more money. Now the problem has degenerated to the House Robber, which is already been solved.\n",
    "\n",
    "        [1, 2, 3, 1]\n",
    "        At each pos we can take either the accumulated loot of the prev house or the the current loot + the accumulated loot of the prev prev house\n",
    "        \"\"\"\n",
    "\n",
    "        \n",
    "\n",
    "        \"\"\"\n",
    "        Unoptimised\n",
    "        dp = {-1:0}\n",
    "        dp_2 = {-1:0, 0:0}\n",
    "\n",
    "        if len(nums)==1:\n",
    "            return nums[0]\n",
    "\n",
    "        for i in range(len(nums)-1):\n",
    "            if i==0:\n",
    "                dp[i] = nums[i]\n",
    "            else:\n",
    "                dp[i] = max(dp[i-1], nums[i] + dp[i-2])\n",
    "\n",
    "        for i in range(1, len(nums)):\n",
    "            dp_2[i] = max(dp_2[i-1], nums[i] + dp_2[i-2])\n",
    "\n",
    "        return max(dp[len(nums)-2], dp_2[len(nums)-1])\n",
    "        \"\"\"\n",
    "            \n",
    "\n",
    "\n"
   ]
  }
 ],
 "metadata": {
  "language_info": {
   "name": "python"
  },
  "orig_nbformat": 4
 },
 "nbformat": 4,
 "nbformat_minor": 2
}
