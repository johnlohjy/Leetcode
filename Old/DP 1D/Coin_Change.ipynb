{
 "cells": [
  {
   "cell_type": "code",
   "execution_count": null,
   "metadata": {},
   "outputs": [],
   "source": [
    "\"\"\"\n",
    "Return the fewest number of coins you need to make up the amount\n",
    "Example:\n",
    "coins = [1,2,5], amount = 11\n",
    "Output: 3\n",
    "11 = 5 + 5 + 1\n",
    "\n",
    "1. Recurrence Relation (Sub problems)\n",
    "Simpler problem\n",
    "\n",
    "Top-down DP\n",
    "Sub-problem: A smaller amount after minusing off the coins\n",
    "\n",
    "2. Base Case\n",
    "- amount = 0 => success\n",
    "- amount < 0 => fail\n",
    "\n",
    "Illustration\n",
    "5 = 5-1, 5-2 = 4, 3\n",
    "\n",
    "4 = 4-1, 4-2 = 3, 2 => 3 is an overlap\n",
    "3 = 3-1, 3-2 = 2, 1 => 2 will also be an overlap\n",
    "\n",
    "2 = 2-1, 2-2 = 1, 0 => solution found\n",
    "\n",
    "How to keep track of the number of coins?\n",
    "Updated recurrence relation\n",
    "dp[amount] = min(dp[amount-coins[0]],dp[amount-coin[1]]) + 1\n",
    "dp[5] = min(dp[4], dp[3])\n",
    "\n",
    "dp[4] = min(dp[3], d[2])\n",
    "dp[3] = min(dp[2], dp[1])\n",
    "\n",
    "dp[2] = min(dp[1],dp[0])\n",
    "\n",
    "Add 1 each level we go up\n",
    "\n",
    "If we reach a base case <0, return infinity\n",
    "##############################################################\n",
    "\"\"\""
   ]
  },
  {
   "cell_type": "code",
   "execution_count": 76,
   "metadata": {},
   "outputs": [],
   "source": [
    "class Solution(object):\n",
    "    \n",
    "    def coinChange(self, coins, amount):\n",
    "        dp = {}\n",
    "\n",
    "        #Base case\n",
    "        if amount==0:\n",
    "            return 0\n",
    "\n",
    "        def top_down(amount, coins, dp):\n",
    "            #Memoize: If min number of coins for that amount has been calculated before\n",
    "            if amount in dp:\n",
    "                return dp[amount]\n",
    "            \n",
    "            #Base Cases\n",
    "            if amount == 0:\n",
    "                return 0\n",
    "            if amount < 0:\n",
    "                return float('inf')\n",
    "\n",
    "            #Compute recurrence relation\n",
    "            num_coins = []\n",
    "            for i in range(len(coins)):\n",
    "                num_coins.append(top_down(amount-coins[i], coins, dp))\n",
    "\n",
    "            dp[amount] = min(num_coins) + 1\n",
    "\n",
    "            #Return the calculated number of coins for that amount\n",
    "            return dp[amount]\n",
    "\n",
    "        min_coins = top_down(amount, coins, dp)\n",
    "        if min_coins < float('inf'):\n",
    "            return min_coins\n",
    "        else:\n",
    "            return -1"
   ]
  },
  {
   "cell_type": "code",
   "execution_count": 77,
   "metadata": {},
   "outputs": [
    {
     "name": "stdout",
     "output_type": "stream",
     "text": [
      "3\n",
      "-1\n"
     ]
    }
   ],
   "source": [
    "solution = Solution()\n",
    "print(solution.coinChange([1,2,5],11))\n",
    "print(solution.coinChange([2],3))"
   ]
  },
  {
   "cell_type": "code",
   "execution_count": null,
   "metadata": {},
   "outputs": [],
   "source": []
  }
 ],
 "metadata": {
  "kernelspec": {
   "display_name": "myenv1",
   "language": "python",
   "name": "python3"
  },
  "language_info": {
   "codemirror_mode": {
    "name": "ipython",
    "version": 3
   },
   "file_extension": ".py",
   "mimetype": "text/x-python",
   "name": "python",
   "nbconvert_exporter": "python",
   "pygments_lexer": "ipython3",
   "version": "3.10.4"
  },
  "orig_nbformat": 4
 },
 "nbformat": 4,
 "nbformat_minor": 2
}
