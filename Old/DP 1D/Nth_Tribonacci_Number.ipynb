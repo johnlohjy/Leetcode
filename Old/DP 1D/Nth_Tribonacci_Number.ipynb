{
 "cells": [
  {
   "cell_type": "code",
   "execution_count": null,
   "metadata": {},
   "outputs": [],
   "source": [
    "class Solution(object):\n",
    "    def tribonacci(self, n):\n",
    "        \"\"\"\n",
    "        :type n: int\n",
    "        :rtype: int\n",
    "        \"\"\"\n",
    "        #Initialise a memo to store computed results\n",
    "        #to avoid repeated work\n",
    "        memo = {}\n",
    "\n",
    "        return self.top_down_dp(n, memo)\n",
    "\n",
    "\n",
    "    def top_down_dp(self, n, memo):\n",
    "        #If the tribonacci number for n has been calculated before\n",
    "        #return it\n",
    "        if n in memo:\n",
    "            return memo[n]\n",
    "\n",
    "        #Base case\n",
    "        if n<=0:\n",
    "            return 0\n",
    "\n",
    "        if n==1:\n",
    "            return 1\n",
    "        \n",
    "        #Memoize the tribonacci number for n\n",
    "        memo[n] = self.top_down_dp(n-1, memo) + self.top_down_dp(n-2, memo) + self.top_down_dp(n-3, memo)\n",
    "\n",
    "        #Return it\n",
    "        return memo[n]"
   ]
  }
 ],
 "metadata": {
  "language_info": {
   "name": "python"
  },
  "orig_nbformat": 4
 },
 "nbformat": 4,
 "nbformat_minor": 2
}
