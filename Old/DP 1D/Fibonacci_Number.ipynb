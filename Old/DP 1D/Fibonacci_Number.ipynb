{
 "cells": [
  {
   "cell_type": "code",
   "execution_count": null,
   "metadata": {},
   "outputs": [],
   "source": [
    "class Solution(object):\n",
    "    def fib(self, n):\n",
    "        \"\"\"\n",
    "        :type n: int\n",
    "        :rtype: int\n",
    "        \"\"\"\n",
    "        \n",
    "        \"\"\"\n",
    "        Bottom up solution \n",
    "        Base case F(0)=0, F(1)=1\n",
    "        F(2)=F(1) + F(0)\n",
    "        F(3)=F(2) + F(1)\n",
    "        DP the factorial\n",
    "        \"\"\"\n",
    "\n",
    "        dp = {}\n",
    "        for i in range(n+1):\n",
    "            if i==0:\n",
    "                dp[i]=0\n",
    "            elif i==1:\n",
    "                dp[i]=1\n",
    "            else:\n",
    "                dp[i] = dp[i-1] + dp[i-2]\n",
    "        return dp[n]\n",
    "\n"
   ]
  }
 ],
 "metadata": {
  "language_info": {
   "name": "python"
  },
  "orig_nbformat": 4
 },
 "nbformat": 4,
 "nbformat_minor": 2
}
