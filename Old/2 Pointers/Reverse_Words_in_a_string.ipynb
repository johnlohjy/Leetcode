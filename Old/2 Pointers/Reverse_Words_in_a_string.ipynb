{
 "cells": [
  {
   "cell_type": "code",
   "execution_count": null,
   "metadata": {},
   "outputs": [],
   "source": [
    "import copy\n",
    "class Solution(object):\n",
    "    def reverseWords(self, s):\n",
    "        \"\"\"\n",
    "        :type s: str\n",
    "        :rtype: str\n",
    "        \"\"\"\n",
    "\n",
    "        \"\"\"\n",
    "        Initialise 2 pointers\n",
    "        left and right\n",
    "        for each word\n",
    "\n",
    "        he l lo\n",
    "        ol l eh\n",
    "\n",
    "        te ll\n",
    "        ll ee\n",
    "\n",
    "\n",
    "        \"\"\"\n",
    "\n",
    "        words = s.split(\" \")\n",
    "        res = []\n",
    "        for word in words:\n",
    "            word_list = list(word)\n",
    "            temp = copy.deepcopy(word_list)\n",
    "            l = 0\n",
    "            r = len(word)-1\n",
    "            while l < r:\n",
    "                temp[l] = word_list[r]\n",
    "                temp[r] = word_list[l]\n",
    "                l+=1\n",
    "                r-=1\n",
    "            res.append(''.join(temp))\n",
    "        return ' '.join(res)\n",
    "            \n",
    "        "
   ]
  }
 ],
 "metadata": {
  "language_info": {
   "name": "python"
  }
 },
 "nbformat": 4,
 "nbformat_minor": 2
}
