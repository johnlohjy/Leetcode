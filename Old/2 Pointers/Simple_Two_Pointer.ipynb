{
 "cells": [
  {
   "cell_type": "code",
   "execution_count": 3,
   "metadata": {},
   "outputs": [],
   "source": [
    "class Solution(object):\n",
    "    def findPair(self, nums, target):\n",
    "        nums.sort()\n",
    "        # Idea\n",
    "        \"\"\"\n",
    "        We have a sorted array nums\n",
    "\n",
    "        Initialise 2 pointers left and right \n",
    "\n",
    "        Add the values of both pointers. \n",
    "        If sum is smaller than target,\n",
    "        move left pointer to the right\n",
    "        If their sum is greater than target,\n",
    "        move right pointer to left\n",
    "        Keep moving the pointers until target sum is reached \n",
    "        \"\"\"\n",
    "        # Initialise left and right pointer\n",
    "        left = 0\n",
    "        right = len(nums)-1\n",
    "\n",
    "        while left < right:\n",
    "            sum = nums[left] + nums[right]\n",
    "            if sum == target:\n",
    "                return True\n",
    "            \n",
    "            if sum < target:\n",
    "                left+=1\n",
    "            else:\n",
    "                right-=1\n",
    "        \n",
    "        return False"
   ]
  },
  {
   "cell_type": "code",
   "execution_count": 4,
   "metadata": {},
   "outputs": [
    {
     "name": "stdout",
     "output_type": "stream",
     "text": [
      "True\n"
     ]
    }
   ],
   "source": [
    "two_pointer = Solution()\n",
    "print(two_pointer.findPair([2, 3, 5, 8, 9, 10, 11], 18))"
   ]
  }
 ],
 "metadata": {
  "kernelspec": {
   "display_name": "myenv1",
   "language": "python",
   "name": "python3"
  },
  "language_info": {
   "codemirror_mode": {
    "name": "ipython",
    "version": 3
   },
   "file_extension": ".py",
   "mimetype": "text/x-python",
   "name": "python",
   "nbconvert_exporter": "python",
   "pygments_lexer": "ipython3",
   "version": "3.10.4"
  }
 },
 "nbformat": 4,
 "nbformat_minor": 2
}
