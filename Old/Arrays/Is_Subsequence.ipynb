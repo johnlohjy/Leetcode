{
 "cells": [
  {
   "cell_type": "code",
   "execution_count": null,
   "metadata": {},
   "outputs": [],
   "source": [
    "class Solution(object):\n",
    "    def isSubsequence(self, s, t):\n",
    "        \"\"\"\n",
    "        :type s: str\n",
    "        :type t: str\n",
    "        :rtype: bool\n",
    "        \"\"\"\n",
    "\n",
    "        \"\"\"\n",
    "        If s is a subsequence of t return true\n",
    "        ace is a subseq of abcde\n",
    "        abc is a subseq of ahbgdc\n",
    "\n",
    "        a b c d e\n",
    "        a c e\n",
    "        \"\"\"\n",
    "        if len(s)==0:\n",
    "            return True\n",
    "\n",
    "        j = 0\n",
    "        for i in range(len(t)):\n",
    "            if t[i]==s[j]:\n",
    "                j+=1\n",
    "                if j==len(s):\n",
    "                    return True\n",
    "        return False\n",
    "\n",
    "        "
   ]
  }
 ],
 "metadata": {
  "language_info": {
   "name": "python"
  }
 },
 "nbformat": 4,
 "nbformat_minor": 2
}
