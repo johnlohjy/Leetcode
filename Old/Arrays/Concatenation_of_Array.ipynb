{
 "cells": [
  {
   "cell_type": "code",
   "execution_count": null,
   "metadata": {},
   "outputs": [],
   "source": [
    "class Solution(object):\n",
    "    def getConcatenation(self, nums):\n",
    "        \"\"\"\n",
    "        :type nums: List[int]\n",
    "        :rtype: List[int]\n",
    "        \"\"\"\n",
    "\n",
    "        \"\"\"\n",
    "        nums: arr of length n\n",
    "        ans: arr of length 2n\n",
    "        - ans[i]==nums[i]\n",
    "        - ans[i+n]==nums[i]       \n",
    "        \"\"\"\n",
    "\n",
    "        ans = [0] * 2 * len(nums)\n",
    "        for i in range(len(nums)):\n",
    "            ans[i]=nums[i]\n",
    "            ans[i+len(nums)]=nums[i]\n",
    "        return ans\n",
    "        "
   ]
  }
 ],
 "metadata": {
  "language_info": {
   "name": "python"
  }
 },
 "nbformat": 4,
 "nbformat_minor": 2
}
