{
 "cells": [
  {
   "cell_type": "code",
   "execution_count": null,
   "metadata": {},
   "outputs": [],
   "source": [
    "class Solution(object):\n",
    "    def containsDuplicate(self, nums):\n",
    "        \"\"\"\n",
    "        :type nums: List[int]\n",
    "        :rtype: bool\n",
    "        \"\"\"\n",
    "\n",
    "        \"\"\"\n",
    "        nums: integer array\n",
    "        return true if any value appears at least twice\n",
    "\n",
    "        Inspiration: https://leetcode.com/problems/contains-duplicate/solutions/4325841/video-step-by-step-visualization-of-o-n-solution/\n",
    "        \"\"\"\n",
    "\n",
    "        duplicates = set()\n",
    "        for i in range(len(nums)):\n",
    "            if nums[i] in duplicates:\n",
    "                return True\n",
    "            duplicates.add(nums[i])\n",
    "        return False\n"
   ]
  }
 ],
 "metadata": {
  "language_info": {
   "name": "python"
  }
 },
 "nbformat": 4,
 "nbformat_minor": 2
}
