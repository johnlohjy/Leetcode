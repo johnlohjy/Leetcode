{
 "cells": [
  {
   "cell_type": "code",
   "execution_count": null,
   "metadata": {},
   "outputs": [],
   "source": [
    "class Solution(object):\n",
    "    sub_island = True\n",
    "    def countSubIslands(self, grid1, grid2):\n",
    "        \"\"\"\n",
    "        :type grid1: List[List[int]]\n",
    "        :type grid2: List[List[int]]\n",
    "        :rtype: int\n",
    "        \"\"\"\n",
    "\n",
    "        \"\"\"\n",
    "        Perform flood fill dfs on grid 2\n",
    "        If the land cell in grid 2 is also a land cell in grid 1 then we continue the flood fill until terminating conditions\n",
    "        If not, its not a sub island \n",
    "        \"\"\"\n",
    "        \n",
    "        def dfs(r,c,grid1,grid2,visited):\n",
    "            if (r,c) not in visited:\n",
    "                visited.add((r,c))\n",
    "                # If it is out of bounds or if the cell is 0, stop flood fill\n",
    "                if r < 0 or r > len(grid2)-1 or c < 0 or c > len(grid2[0])-1 or grid2[r][c]==0:\n",
    "                    return\n",
    "                # If grid2[r][c] is 1 but grid1[r][c] is 0, it means island in grid2 is not a subisland\n",
    "                if grid1[r][c]==0:\n",
    "                    self.sub_island = False\n",
    "\n",
    "                dfs(r+1,c,grid1,grid2,visited)\n",
    "                dfs(r-1,c,grid1,grid2,visited)\n",
    "                dfs(r,c-1,grid1,grid2,visited)\n",
    "                dfs(r,c+1,grid1,grid2,visited)\n",
    "\n",
    "        res = 0\n",
    "        visited = set()\n",
    "        for r in range(len(grid2)):\n",
    "            for c in range(len(grid2[0])):\n",
    "                # Ensure that we are only going to verify starting from unvisited sub islands\n",
    "                if grid2[r][c]==1 and (r,c) not in visited:\n",
    "                    self.sub_island = True\n",
    "                    dfs(r,c,grid1,grid2,visited)\n",
    "                    if self.sub_island:\n",
    "                        res+=1\n",
    "        return res\n",
    "\n",
    "        \n",
    "\n",
    "            "
   ]
  }
 ],
 "metadata": {
  "language_info": {
   "name": "python"
  }
 },
 "nbformat": 4,
 "nbformat_minor": 2
}
