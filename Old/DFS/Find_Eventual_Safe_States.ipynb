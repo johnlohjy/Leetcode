{
 "cells": [
  {
   "cell_type": "code",
   "execution_count": null,
   "metadata": {},
   "outputs": [],
   "source": [
    "class Solution(object):\n",
    "    def eventualSafeNodes(self, graph):\n",
    "        \"\"\"\n",
    "        :type graph: List[List[int]]\n",
    "        :rtype: List[int]\n",
    "        \"\"\"\n",
    "\n",
    "        \"\"\"\n",
    "        https://www.youtube.com/watch?v=Re_v0j0CRsg&t=508s\n",
    "        Perform dfs\n",
    "        If all the neighbours of a node are safe nodes,\n",
    "        then it is a safe node\n",
    "        Initialise a list of all false that the node is not safe\n",
    "        \"\"\"\n",
    "\n",
    "        res = []\n",
    "        # Memoize the statuses of nodes\n",
    "        safe = {}\n",
    "\n",
    "        def dfs(i):\n",
    "            # If the current node's status has been determined before,\n",
    "            # return it's status\n",
    "            if i in safe:\n",
    "                return safe[i]\n",
    "\n",
    "            # Initialise the current node's status to false first, unless proven otherwise\n",
    "            safe[i] = False\n",
    "\n",
    "            # Check the status of all the node's neighbours\n",
    "            # If one of it's neighbours is not safe, it is not safe as well\n",
    "            for nb in graph[i]:\n",
    "                if not dfs(nb):\n",
    "                    return False\n",
    "\n",
    "            # If all of it's neighbours are safe, it is safe\n",
    "            safe[i] = True\n",
    "\n",
    "            return True\n",
    "\n",
    "        for i in range(len(graph)):\n",
    "            if dfs(i):\n",
    "                res.append(i)\n",
    "        return res\n",
    "\n",
    "\n",
    "\n",
    "        \n",
    "\n",
    "        "
   ]
  }
 ],
 "metadata": {
  "language_info": {
   "name": "python"
  }
 },
 "nbformat": 4,
 "nbformat_minor": 2
}
