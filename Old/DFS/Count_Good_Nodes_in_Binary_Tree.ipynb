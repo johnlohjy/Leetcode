{
 "cells": [
  {
   "cell_type": "code",
   "execution_count": null,
   "metadata": {},
   "outputs": [],
   "source": [
    "# Definition for a binary tree node.\n",
    "# class TreeNode(object):\n",
    "#     def __init__(self, val=0, left=None, right=None):\n",
    "#         self.val = val\n",
    "#         self.left = left\n",
    "#         self.right = right\n",
    "class Solution(object):\n",
    "    res = 0\n",
    "    def goodNodes(self, root):\n",
    "        \"\"\"\n",
    "        :type root: TreeNode\n",
    "        :rtype: int\n",
    "        \"\"\"\n",
    "\n",
    "        \"\"\"\n",
    "        Use DFS (Depth First Search) to traverse the tree, and constantly keep track of the current path maximum.\n",
    "        Beats 100%\n",
    "        \"\"\"\n",
    "        def dfs(node,curr_max):\n",
    "            if node.val >= curr_max:\n",
    "                curr_max = node.val\n",
    "                self.res+=1\n",
    "            if node.left:\n",
    "                dfs(node.left, curr_max)\n",
    "            if node.right:\n",
    "                dfs(node.right, curr_max)\n",
    "            return\n",
    "\n",
    "        dfs(root,root.val)\n",
    "\n",
    "        return self.res\n",
    "            \n",
    "\n",
    "        "
   ]
  }
 ],
 "metadata": {
  "language_info": {
   "name": "python"
  },
  "orig_nbformat": 4
 },
 "nbformat": 4,
 "nbformat_minor": 2
}
