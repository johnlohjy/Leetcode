{
 "cells": [
  {
   "cell_type": "code",
   "execution_count": null,
   "metadata": {},
   "outputs": [],
   "source": [
    "class Solution(object):\n",
    "    def canVisitAllRooms(self, rooms):\n",
    "        \"\"\"\n",
    "        :type rooms: List[List[int]]\n",
    "        :rtype: bool\n",
    "        \"\"\"\n",
    "\n",
    "        \"\"\"\n",
    "        n rooms labelled 0 to n-1\n",
    "\n",
    "        All rooms locked except room 0\n",
    "\n",
    "        Goal is to visit all rooms\n",
    "\n",
    "        When you visit a room, you may find a set of distinct keys in it. Each key has a number on it, denoting which room it unlocks, and you can take all of them with you to unlock the other rooms.\n",
    "\n",
    "        rooms array: rooms[i] is the set of keys that you can obtain if you visit room i\n",
    "\n",
    "        return T if you can visit all the rooms, false otherwise\n",
    "        \"\"\"\n",
    "\n",
    "        def dfs(key,rooms,visited):\n",
    "            if key not in visited:\n",
    "                visited.add(key)\n",
    "                if len(rooms[key]) > 0:\n",
    "                    for i in range(len(rooms[key])):\n",
    "                        dfs(rooms[key][i],rooms,visited)\n",
    "                    return\n",
    "                return\n",
    "            return\n",
    "\n",
    "        visited = set()\n",
    "        \n",
    "        dfs(0,rooms,visited)\n",
    "\n",
    "        if len(visited)==len(rooms):\n",
    "            return True\n",
    "\n",
    "        return False\n",
    "        "
   ]
  }
 ],
 "metadata": {
  "language_info": {
   "name": "python"
  }
 },
 "nbformat": 4,
 "nbformat_minor": 2
}
