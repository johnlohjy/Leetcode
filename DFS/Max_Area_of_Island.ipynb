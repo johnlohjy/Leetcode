{
 "cells": [
  {
   "cell_type": "code",
   "execution_count": null,
   "metadata": {},
   "outputs": [],
   "source": [
    "class Solution(object):\n",
    "    def maxAreaOfIsland(self, grid):\n",
    "        \"\"\"\n",
    "        :type grid: List[List[int]]\n",
    "        :rtype: int\n",
    "        \"\"\"\n",
    "\n",
    "        \"\"\"\n",
    "        How to make sure that the dfs returns a single island?\n",
    "        Once a dfs begins from an island node, it will add all its other island nodes\n",
    "        to visited. Once the search is done, it would have covered all the island nodes\n",
    "        \"\"\"\n",
    "        visited = set()\n",
    "        def dfs(r,c,visited,grid):\n",
    "            #If its out of bounds or its water or it has been visited\n",
    "            if r < 0 or r > len(grid)-1 or c < 0 or c > len(grid[0])-1 or grid[r][c]==0 or (r,c) in visited:\n",
    "                return 0\n",
    "            else:\n",
    "                visited.add((r,c))\n",
    "                return 1 + dfs(r+1,c,visited,grid) + dfs(r-1,c,visited,grid) + dfs(r,c-1,visited,grid) + dfs(r,c+1,visited,grid)\n",
    "        \n",
    "        area = 0\n",
    "        for r in range(len(grid)):\n",
    "            for c in range(len(grid[0])):\n",
    "                if (r,c) not in visited and grid[r][c]==1:\n",
    "                    area = max(area,dfs(r,c,visited,grid))\n",
    "        \n",
    "        return area\n",
    "\n",
    "\n"
   ]
  }
 ],
 "metadata": {
  "language_info": {
   "name": "python"
  },
  "orig_nbformat": 4
 },
 "nbformat": 4,
 "nbformat_minor": 2
}
