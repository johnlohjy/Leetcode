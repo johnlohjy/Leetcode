{
 "cells": [
  {
   "cell_type": "code",
   "execution_count": null,
   "metadata": {},
   "outputs": [],
   "source": [
    "class Solution(object):\n",
    "    closed_island = True\n",
    "    res = 0\n",
    "    def closedIsland(self, grid):\n",
    "        \"\"\"\n",
    "        :type grid: List[List[int]]\n",
    "        :rtype: int\n",
    "        \"\"\"\n",
    "\n",
    "        \"\"\"\n",
    "        An island is a 4-directionally connected grp of 0s\n",
    "        Closed island is an island totally surrounded by 1s\n",
    "        Find the number of closed islands\n",
    "\n",
    "        Hint:\n",
    "        EXCLUDE connected group of 0s on the corners because they are not closed island.\n",
    "        Return number of connected component of 0s on the grid.\n",
    "\n",
    "        Perform dfs to find connected components of 0s on the grid. If the 0s lie at the sides,\n",
    "        then the connected component is not a closed island\n",
    "        \"\"\"\n",
    "\n",
    "        visited = set()\n",
    "\n",
    "        def dfs(r,c,grid,visited):\n",
    "            if (r,c) not in visited:\n",
    "                visited.add((r,c))\n",
    "                if r < 0 or r > len(grid)-1 or c < 0 or c > len(grid[0])-1 or grid[r][c]==1:\n",
    "                    return\n",
    "                if r==0 or r==len(grid)-1 or c==0 or c==len(grid[0])-1:\n",
    "                    self.closed_island=False\n",
    "                dfs(r+1,c,grid,visited)\n",
    "                dfs(r-1,c,grid,visited)\n",
    "                dfs(r,c-1,grid,visited)\n",
    "                dfs(r,c+1,grid,visited)\n",
    "\n",
    "        for r in range(len(grid)):\n",
    "            for c in range(len(grid[0])):\n",
    "                if (r,c) not in visited:\n",
    "                    self.closed_island = True\n",
    "                    dfs(r,c,grid,visited)\n",
    "                    if grid[r][c]==0 and self.closed_island==True:\n",
    "                        self.res+=1\n",
    "\n",
    "        return self.res\n",
    "                \n",
    "\n",
    "        "
   ]
  }
 ],
 "metadata": {
  "language_info": {
   "name": "python"
  }
 },
 "nbformat": 4,
 "nbformat_minor": 2
}
