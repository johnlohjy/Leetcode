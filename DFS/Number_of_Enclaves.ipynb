{
 "cells": [
  {
   "cell_type": "code",
   "execution_count": 5,
   "metadata": {},
   "outputs": [],
   "source": [
    "class Solution(object):\n",
    "    def numEnclaves(self, grid):\n",
    "        \"\"\"\n",
    "        :type grid: List[List[int]]\n",
    "        :rtype: int\n",
    "        \"\"\"\n",
    "\n",
    "        \"\"\"\n",
    "        0 => sea cell\n",
    "        1 => land cell\n",
    "\n",
    "        One move: walk from one land cell to an adj land cell or walking off the boundary\n",
    "\n",
    "        Return the numbe rof land cells in the grid for which we cannot walk off the boundary of the grid\n",
    "        in any number of moves\n",
    "\n",
    "        Can you model this problem as a graph problem? Create n * m + 1 nodes where n * m nodes represents each cell of the map and one extra node to represent the exterior of the map.\n",
    "\n",
    "\n",
    "        In the map add edges between neighbors on land cells. And add edges between the exterior and land nodes which are in the boundary. Return as answer the number of nodes that are not reachable from the exterior node.\n",
    "        \"\"\"\n",
    "        \n",
    "\n",
    "        \"\"\"\n",
    "        From the outerboundary, find a path to a land cell and its subsequent land cells. Land cells that can be reached by the search add 1\n",
    "        Make sure it has not been visited\n",
    "        \"\"\"\n",
    "\n",
    "        #Add boundaries\n",
    "        grid.insert(0, [-1]*len(grid[0]))\n",
    "        grid.append([-1]*len(grid[0]))\n",
    "\n",
    "        for i in range(len(grid)):\n",
    "            grid[i].insert(0, -1)\n",
    "            grid[i].append(-1)\n",
    "\n",
    "        visited = set()\n",
    "        res = 0\n",
    "        def dfs(r,c,grid,visited):\n",
    "            if (r,c) not in visited:\n",
    "                visited.add((r,c))\n",
    "                if r < 0 or r > len(grid)-1 or c < 0 or c > len(grid[0])-1 or grid[r][c]==0:\n",
    "                    return 0\n",
    "                else:\n",
    "                    if grid[r][c]==1:\n",
    "                        return 1 + dfs(r+1,c,grid,visited) + dfs(r-1,c,grid,visited) + dfs(r,c-1,grid,visited) + dfs(r,c+1,grid,visited)\n",
    "                    else:\n",
    "                        return dfs(r+1,c,grid,visited) + dfs(r-1,c,grid,visited) + dfs(r,c-1,grid,visited) + dfs(r,c+1,grid,visited)\n",
    "            return 0\n",
    "\n",
    "        land = 0\n",
    "        for r in range(len(grid)):\n",
    "            for c in range(len(grid[0])):\n",
    "                if grid[r][c] == 1:\n",
    "                    land += 1\n",
    "                if (c==0 or len(grid[0])) and (r==0 or r==len(grid)):\n",
    "                    res += dfs(r,c,grid,visited)\n",
    "\n",
    "        return land-res"
   ]
  },
  {
   "cell_type": "code",
   "execution_count": 6,
   "metadata": {},
   "outputs": [
    {
     "name": "stdout",
     "output_type": "stream",
     "text": [
      "0\n"
     ]
    }
   ],
   "source": [
    "solution = Solution()\n",
    "print(solution.numEnclaves([[0,0,0,0],[1,0,1,0],[0,1,1,0],[0,0,0,0]]))"
   ]
  },
  {
   "cell_type": "code",
   "execution_count": null,
   "metadata": {},
   "outputs": [],
   "source": []
  }
 ],
 "metadata": {
  "kernelspec": {
   "display_name": "myenv1",
   "language": "python",
   "name": "python3"
  },
  "language_info": {
   "codemirror_mode": {
    "name": "ipython",
    "version": 3
   },
   "file_extension": ".py",
   "mimetype": "text/x-python",
   "name": "python",
   "nbconvert_exporter": "python",
   "pygments_lexer": "ipython3",
   "version": "3.10.4"
  },
  "orig_nbformat": 4
 },
 "nbformat": 4,
 "nbformat_minor": 2
}
