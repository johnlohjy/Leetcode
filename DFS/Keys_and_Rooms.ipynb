{
 "cells": [
  {
   "cell_type": "code",
   "execution_count": null,
   "metadata": {},
   "outputs": [],
   "source": [
    "class Solution(object):\n",
    "    def canVisitAllRooms(self, rooms):\n",
    "        \"\"\"\n",
    "        :type rooms: List[List[int]]\n",
    "        :rtype: bool\n",
    "        \"\"\"\n",
    "        \n",
    "        \"\"\"\n",
    "        rooms = [[1],[2],[3],[]]\n",
    "\n",
    "        Perform DFS starting from index 0\n",
    "        \n",
    "        How to tell if we have visited all rooms?\n",
    "        - When we visit each room add it to 'visited'\n",
    "\n",
    "        If at the end of DFS, 'visited' has the length of rooms,\n",
    "        then we have visited all rooms\n",
    "        \"\"\"\n",
    "\n",
    "        #Initialise a visited set\n",
    "        visited = set()\n",
    "        #Add room 0 to visited\n",
    "        visited.add(0)\n",
    "\n",
    "        #Start DFS with room 0\n",
    "        self.dfs(rooms, visited, 0)\n",
    "\n",
    "        if len(visited)==len(rooms):\n",
    "            return True\n",
    "\n",
    "        return False\n",
    "\n",
    "    #Define DFS function\n",
    "    def dfs(self, rooms, visited, key_number):\n",
    "        #For each key in the current room\n",
    "        for key in rooms[key_number]:\n",
    "            #Recursive case\n",
    "            #If the key has not been picked up before/\n",
    "            #the room has not been visited before\n",
    "            if key not in visited:\n",
    "                #Add it to visited\n",
    "                visited.add(key)\n",
    "                #Perform DFS room search using that key\n",
    "                self.dfs(rooms, visited, key)\n",
    "\n",
    "            \n",
    "\n",
    "\n",
    "        "
   ]
  }
 ],
 "metadata": {
  "language_info": {
   "name": "python"
  },
  "orig_nbformat": 4
 },
 "nbformat": 4,
 "nbformat_minor": 2
}
