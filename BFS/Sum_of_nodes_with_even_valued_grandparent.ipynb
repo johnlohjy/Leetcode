{
 "cells": [
  {
   "cell_type": "code",
   "execution_count": null,
   "metadata": {},
   "outputs": [],
   "source": [
    "# Definition for a binary tree node.\n",
    "# class TreeNode(object):\n",
    "#     def __init__(self, val=0, left=None, right=None):\n",
    "#         self.val = val\n",
    "#         self.left = left\n",
    "#         self.right = right\n",
    "class Solution(object):\n",
    "    def sumEvenGrandparent(self, root):\n",
    "        \"\"\"\n",
    "        :type root: TreeNode\n",
    "        :rtype: int\n",
    "        \"\"\"\n",
    "\n",
    "        \"\"\"\n",
    "        Perform level-order BFS traversal \n",
    "        For each node check if its grandparent is even - how? if its parent parent is even\n",
    "        store the parent node of each node\n",
    "\n",
    "        Hint\n",
    "        Traverse the tree keeping the parent and the grandparent.\n",
    "        If the grandparent of the current node is even-valued, add the value of this node to the answer.\n",
    "        \"\"\"\n",
    "\n",
    "        queue = []\n",
    "        res = 0\n",
    "        queue.append(root)\n",
    "        while len(queue) > 0:\n",
    "            for i in range(len(queue)):\n",
    "                node = queue.pop(0)\n",
    "                if node.val%2==0:\n",
    "                    if node.left:\n",
    "                        if node.left.left:\n",
    "                            res+=node.left.left.val\n",
    "                        if node.left.right:\n",
    "                            res+=node.left.right.val\n",
    "                    if node.right:\n",
    "                        if node.right.left:\n",
    "                            res+=node.right.left.val\n",
    "                        if node.right.right:\n",
    "                            res+=node.right.right.val\n",
    "\n",
    "                if node.left:\n",
    "                    queue.append(node.left)\n",
    "                if node.right:\n",
    "                    queue.append(node.right)\n",
    "        return res\n",
    "\n",
    "        "
   ]
  }
 ],
 "metadata": {
  "language_info": {
   "name": "python"
  },
  "orig_nbformat": 4
 },
 "nbformat": 4,
 "nbformat_minor": 2
}
