{
 "cells": [
  {
   "cell_type": "code",
   "execution_count": null,
   "metadata": {},
   "outputs": [],
   "source": [
    "# Definition for a binary tree node.\n",
    "# class TreeNode(object):\n",
    "#     def __init__(self, val=0, left=None, right=None):\n",
    "#         self.val = val\n",
    "#         self.left = left\n",
    "#         self.right = right\n",
    "class Solution(object):\n",
    "    def largestValues(self, root):\n",
    "        \"\"\"\n",
    "        :type root: TreeNode\n",
    "        :rtype: List[int]\n",
    "        \"\"\"\n",
    "\n",
    "        \"\"\"\n",
    "        Level Order Traversal \n",
    "        \"\"\"\n",
    "\n",
    "        if root is None:\n",
    "            return []\n",
    "        q = [root]\n",
    "        res = []\n",
    "        while len(q) > 0:\n",
    "            temp = -1000000000000000\n",
    "            for i in range(len(q)):\n",
    "                node = q.pop(0)\n",
    "                if node.val > temp:\n",
    "                    temp = node.val\n",
    "                if node.left:\n",
    "                    q.append(node.left)\n",
    "                if node.right:\n",
    "                    q.append(node.right)\n",
    "            res.append(temp)\n",
    "        return res\n",
    "\n",
    "        "
   ]
  }
 ],
 "metadata": {
  "language_info": {
   "name": "python"
  }
 },
 "nbformat": 4,
 "nbformat_minor": 2
}
