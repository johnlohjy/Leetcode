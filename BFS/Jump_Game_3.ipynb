{
 "cells": [
  {
   "cell_type": "code",
   "execution_count": null,
   "metadata": {},
   "outputs": [],
   "source": [
    "class Solution(object):\n",
    "    def canReach(self, arr, start):\n",
    "        \"\"\"\n",
    "        :type arr: List[int]\n",
    "        :type start: int\n",
    "        :rtype: bool\n",
    "        \"\"\"\n",
    "\n",
    "        \"\"\"\n",
    "        non-negative integers: arr\n",
    "\n",
    "        starting position: start index\n",
    "\n",
    "        at index i: jump to i + arr[i] index or i - arr[i] index\n",
    "\n",
    "        Check if you can reach any index w value 0\n",
    "\n",
    "        Hint:\n",
    "\n",
    "        Think of BFS to solve the problem.\n",
    "        When you reach a position with a value = 0 then return true.\n",
    "\n",
    "        Perform bfs at each lvl\n",
    "        \"\"\"\n",
    "\n",
    "        visited = set()\n",
    "        queue = []\n",
    "        queue.append(start)\n",
    "\n",
    "        while len(queue) > 0:\n",
    "            node = queue.pop(0)\n",
    "            if arr[node]==0:\n",
    "                return True\n",
    "\n",
    "            if node not in visited:\n",
    "                visited.add(node)\n",
    "                nb1 = node - arr[node]\n",
    "                nb2 = node + arr[node]\n",
    "\n",
    "                if nb1 >= 0 and nb1 < len(arr):\n",
    "                    queue.append(nb1)\n",
    "\n",
    "                if nb2 >= 0 and nb2 < len(arr):\n",
    "                    queue.append(nb2)\n",
    "\n",
    "        return False\n",
    "\n",
    "        "
   ]
  },
  {
   "cell_type": "code",
   "execution_count": null,
   "metadata": {},
   "outputs": [],
   "source": []
  }
 ],
 "metadata": {
  "kernelspec": {
   "display_name": "Python 3",
   "language": "python",
   "name": "python3"
  },
  "language_info": {
   "codemirror_mode": {
    "name": "ipython",
    "version": 3
   },
   "file_extension": ".py",
   "mimetype": "text/x-python",
   "name": "python",
   "nbconvert_exporter": "python",
   "pygments_lexer": "ipython3",
   "version": "3.10.9"
  },
  "orig_nbformat": 4
 },
 "nbformat": 4,
 "nbformat_minor": 2
}
