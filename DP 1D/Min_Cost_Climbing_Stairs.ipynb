{
 "cells": [
  {
   "cell_type": "code",
   "execution_count": null,
   "metadata": {},
   "outputs": [],
   "source": [
    "class Solution(object):\n",
    "    def minCostClimbingStairs(self, cost):\n",
    "        \"\"\"\n",
    "        :type cost: List[int]\n",
    "        :rtype: int\n",
    "        \"\"\"\n",
    "        \n",
    "        \"\"\"\n",
    "        Use bottom DP\n",
    "        At each step,\n",
    "        calculate the min cost of reaching there:\n",
    "        - add the cost from one step back, or\n",
    "        - add the cost from two step back\n",
    "        \n",
    "        [10,15,20]\n",
    "        [0, 0, 10, 15, 20, 0]\n",
    "        \n",
    "        Add base case 1, base case 2, final to the cost array\n",
    "        [base case 1, base case 2, step 1, step 2, step 3, final]\n",
    "        [0, 0, 10, 15, 30, 15]\n",
    "        \"\"\"\n",
    "        #Initialise a memo to store the min cost of each step (cost to reach that step)\n",
    "        return self.bottom_up_dp(cost)\n",
    "\n",
    "    def bottom_up_dp(self, cost):\n",
    "        memo = {}\n",
    "        for i in range(len(cost)):\n",
    "            #Base case: If we are at the first or second step\n",
    "            #The min cost to reach that step is itself\n",
    "            #Memoize it\n",
    "            if i==0 or i==1:\n",
    "                memo[i] = cost[i]\n",
    "            else:\n",
    "            #Add the cost of the current step and the min of the costs\n",
    "            #between the:\n",
    "            #- min cost to reach 1 step back\n",
    "            #- min cost to reach 2 step back\n",
    "                memo[i] = cost[i] + min(memo[i-1], memo[i-2])\n",
    "        \n",
    "        #The minimum cost to reach the top is either\n",
    "        #from the second last step or the last step\n",
    "        return min(memo[len(cost)-2], memo[len(cost)-1])\n",
    "        \n",
    "\n",
    "\n"
   ]
  }
 ],
 "metadata": {
  "language_info": {
   "name": "python"
  },
  "orig_nbformat": 4
 },
 "nbformat": 4,
 "nbformat_minor": 2
}
