{
 "cells": [
  {
   "cell_type": "code",
   "execution_count": null,
   "metadata": {},
   "outputs": [],
   "source": [
    "class Solution(object):\n",
    "    def replaceElements(self, arr):\n",
    "        \"\"\"\n",
    "        :type arr: List[int]\n",
    "        :rtype: List[int]\n",
    "        \"\"\"\n",
    "\n",
    "        \"\"\"\n",
    "        arr: array\n",
    "        replace every element in that array with the greatest element among the elements to its right\n",
    "        replace the last element with -1\n",
    "\n",
    "        hint:\n",
    "        Loop through the array starting from the end,\n",
    "        Keep the maximum value seen so far\n",
    "\n",
    "        [17,18,5,4,6,1]\n",
    "        [18,18,6,6,6,1]\n",
    "        \"\"\"\n",
    "\n",
    "        res = [0]*len(arr)\n",
    "        curr_max = arr[-1]\n",
    "        for i in range(len(arr)-1,-1,-1):\n",
    "            if arr[i] > curr_max:\n",
    "                curr_max = arr[i]\n",
    "            res[i-1] = curr_max\n",
    "        res[-1] = -1\n",
    "        return res\n",
    "\n",
    "        "
   ]
  }
 ],
 "metadata": {
  "language_info": {
   "name": "python"
  }
 },
 "nbformat": 4,
 "nbformat_minor": 2
}
