{
 "cells": [
  {
   "cell_type": "code",
   "execution_count": null,
   "metadata": {},
   "outputs": [],
   "source": [
    "class Solution(object):\n",
    "    def shuffle(self, nums, n):\n",
    "        \"\"\"\n",
    "        :type nums: List[int]\n",
    "        :type n: int\n",
    "        :rtype: List[int]\n",
    "        \"\"\"\n",
    "\n",
    "        \"\"\"\n",
    "        Use two pointers to create the new array of 2n elements. The first starting at the beginning and the other starting at (n+1)th position. Alternate between them and create the new array.\n",
    "\n",
    "        nums array: 2n elements\n",
    "        [x1, x2, ..., xn, y1, y2, ..., yn]\n",
    "\n",
    "        return the array in the form [x1, y1, x2, y2, ... , xn, yn]\n",
    "\n",
    "        p_x = 0\n",
    "        p_y = n\n",
    "        \"\"\"\n",
    "\n",
    "        res = []\n",
    "        p_x = 0\n",
    "        p_y = n\n",
    "        for i in range(n):\n",
    "            res.append(nums[p_x])\n",
    "            p_x+=1\n",
    "\n",
    "            res.append(nums[p_y])\n",
    "            p_y+=1\n",
    "        return res\n",
    "\n",
    "\n",
    "\n",
    "\n",
    "        "
   ]
  }
 ],
 "metadata": {
  "language_info": {
   "name": "python"
  }
 },
 "nbformat": 4,
 "nbformat_minor": 2
}
