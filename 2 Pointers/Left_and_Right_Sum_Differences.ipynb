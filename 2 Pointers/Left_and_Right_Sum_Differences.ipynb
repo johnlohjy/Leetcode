{
 "cells": [
  {
   "cell_type": "code",
   "execution_count": null,
   "metadata": {},
   "outputs": [],
   "source": [
    "class Solution(object):\n",
    "    def leftRightDifference(self, nums):\n",
    "        \"\"\"\n",
    "        :type nums: List[int]\n",
    "        :rtype: List[int]\n",
    "        \"\"\"\n",
    "\n",
    "        \"\"\"\n",
    "        nums: 0-indexed integer array\n",
    "        answer: 0-indexed integer answer\n",
    "\n",
    "        answer[i] = |leftSum[i] - rightSum[i]|\n",
    "        - leftSum[i]: Sum of elements to the left of index i in nums. If no such element, leftSum[i]=0\n",
    "        - rightSum[i]: Sum of elements to the right of index i in nums. If no such element, rightSum[i]=0\n",
    "\n",
    "        return answer\n",
    "\n",
    "        Hint:\n",
    "        For each index i, maintain two variables leftSum and rightSum.\n",
    "\n",
    "        Iterate on the range j: [0 … i - 1] and add nums[j] to the leftSum and similarly iterate on the range j: [i + 1 … nums.length - 1] and add nums[j] to the rightSum.\n",
    "        \"\"\"\n",
    "\n",
    "        left_sum = 0\n",
    "        right_sum = sum(nums[1:])\n",
    "        res = [abs(left_sum-right_sum)]\n",
    "        for i in range(1,len(nums)):\n",
    "            left_sum+=nums[i-1]\n",
    "            right_sum-=nums[i]\n",
    "            res.append(abs(left_sum-right_sum))\n",
    "        return res\n",
    "\n",
    "        "
   ]
  }
 ],
 "metadata": {
  "language_info": {
   "name": "python"
  }
 },
 "nbformat": 4,
 "nbformat_minor": 2
}
