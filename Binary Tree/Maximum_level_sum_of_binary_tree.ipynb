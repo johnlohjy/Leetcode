{
 "cells": [
  {
   "cell_type": "code",
   "execution_count": null,
   "metadata": {},
   "outputs": [],
   "source": [
    "# Definition for a binary tree node.\n",
    "# class TreeNode(object):\n",
    "#     def __init__(self, val=0, left=None, right=None):\n",
    "#         self.val = val\n",
    "#         self.left = left\n",
    "#         self.right = right\n",
    "class Solution(object):\n",
    "    def maxLevelSum(self, root):\n",
    "        \"\"\"\n",
    "        :type root: TreeNode\n",
    "        :rtype: int\n",
    "        \"\"\"\n",
    "        queue = []\n",
    "        #Initialise level number\n",
    "        level_num = 1\n",
    "        #Perform level order traversal\n",
    "        queue.append(root)\n",
    "        #While there are still nodes at each level\n",
    "        while len(queue)>0:\n",
    "            level_sum = 0\n",
    "            #Iterate through the nodes at a current level\n",
    "            for i in range(len(queue)):\n",
    "                node = queue.pop(0)\n",
    "                level_sum+=node.val\n",
    "                #Enqueue the nodes at the next level\n",
    "                if(node.left):\n",
    "                    queue.append(node.left)\n",
    "                if(node.right):\n",
    "                    queue.append(node.right)\n",
    "            if level_num==1:\n",
    "                #Initialise a tuple to store (level sum, level number)\n",
    "                best_level = (level_sum, level_num)\n",
    "            elif level_sum > best_level[0]:\n",
    "                best_level = (level_sum, level_num)\n",
    "            level_num+=1\n",
    "\n",
    "        return best_level[1]\n",
    "        \n"
   ]
  }
 ],
 "metadata": {
  "language_info": {
   "name": "python"
  },
  "orig_nbformat": 4
 },
 "nbformat": 4,
 "nbformat_minor": 2
}
